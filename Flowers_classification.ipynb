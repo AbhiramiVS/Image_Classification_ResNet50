{
 "cells": [
  {
   "cell_type": "code",
   "execution_count": 47,
   "metadata": {},
   "outputs": [],
   "source": [
    "from tensorflow.keras.layers import Conv2D,Flatten,Dense,MaxPool2D,BatchNormalization,GlobalAveragePooling2D\n",
    "from tensorflow.keras.applications.resnet50 import preprocess_input\n",
    "from tensorflow.keras.preprocessing.image import ImageDataGenerator,load_img\n",
    "from tensorflow.keras.applications.resnet50 import ResNet50\n",
    "from tensorflow.keras.preprocessing import image\n",
    "from tensorflow.keras.models import Sequential, Model\n",
    "import numpy as np\n",
    "import matplotlib.pyplot as plt"
   ]
  },
  {
   "cell_type": "code",
   "execution_count": 6,
   "metadata": {},
   "outputs": [],
   "source": [
    "img_height, img_width = (224,224)\n",
    "batch_size = 32\n",
    "\n",
    "train_data_dir = r'D:\\Learning\\Flowers classification\\dataset\\preprocessed_data\\train'\n",
    "valid_data_dir = r'D:\\Learning\\Flowers classification\\dataset\\preprocessed_data\\val'\n",
    "test_data_dir = r'D:\\Learning\\Flowers classification\\dataset\\preprocessed_data\\test'"
   ]
  },
  {
   "cell_type": "code",
   "execution_count": 8,
   "metadata": {},
   "outputs": [
    {
     "name": "stdout",
     "output_type": "stream",
     "text": [
      "Found 1557 images belonging to 5 classes.\n",
      "Found 342 images belonging to 5 classes.\n"
     ]
    }
   ],
   "source": [
    "train_datagen = ImageDataGenerator(preprocessing_function=preprocess_input,\n",
    "                                  shear_range=0.2,\n",
    "                                  zoom_range=0.2,\n",
    "                                  horizontal_flip=True,\n",
    "                                  validation_split=0.4)\n",
    "\n",
    "train_generator = train_datagen.flow_from_directory(train_data_dir,\n",
    "                                                    target_size=(img_height, img_width),\n",
    "                                                   batch_size= batch_size,\n",
    "                                                   class_mode='categorical',\n",
    "                                                   subset='training')\n",
    "valid_generator = train_datagen.flow_from_directory(valid_data_dir,\n",
    "                                                   target_size=(img_height, img_width),\n",
    "                                                   batch_size= batch_size,\n",
    "                                                   class_mode='categorical',\n",
    "                                                   subset='validation')"
   ]
  },
  {
   "cell_type": "code",
   "execution_count": 9,
   "metadata": {},
   "outputs": [
    {
     "name": "stdout",
     "output_type": "stream",
     "text": [
      "Found 347 images belonging to 5 classes.\n"
     ]
    }
   ],
   "source": [
    "test_generator = train_datagen.flow_from_directory(test_data_dir,\n",
    "                                                  target_size=(img_height, img_width),\n",
    "                                                  batch_size= 1,\n",
    "                                                  class_mode='categorical',\n",
    "                                                  subset='validation')"
   ]
  },
  {
   "cell_type": "code",
   "execution_count": 10,
   "metadata": {},
   "outputs": [
    {
     "data": {
      "text/plain": [
       "(1, 224, 224, 3)"
      ]
     },
     "execution_count": 10,
     "metadata": {},
     "output_type": "execute_result"
    }
   ],
   "source": [
    "x,y = test_generator.next()\n",
    "x.shape"
   ]
  },
  {
   "cell_type": "code",
   "execution_count": 12,
   "metadata": {},
   "outputs": [
    {
     "name": "stderr",
     "output_type": "stream",
     "text": [
      "C:\\Users\\abhir\\anaconda3\\envs\\image_clf\\lib\\site-packages\\keras_applications\\resnet50.py:265: UserWarning: The output shape of `ResNet50(include_top=False)` has been changed since Keras 2.2.0.\n",
      "  warnings.warn('The output shape of `ResNet50(include_top=False)` '\n"
     ]
    },
    {
     "name": "stdout",
     "output_type": "stream",
     "text": [
      "Downloading data from https://github.com/fchollet/deep-learning-models/releases/download/v0.2/resnet50_weights_tf_dim_ordering_tf_kernels_notop.h5\n",
      "94658560/94653016 [==============================] - 532s 6us/step\n",
      "WARNING:tensorflow:From C:\\Users\\abhir\\anaconda3\\envs\\image_clf\\lib\\site-packages\\tensorflow\\python\\ops\\init_ops.py:1251: calling VarianceScaling.__init__ (from tensorflow.python.ops.init_ops) with dtype is deprecated and will be removed in a future version.\n",
      "Instructions for updating:\n",
      "Call initializer instance with the dtype argument instead of passing it to the constructor\n",
      "Epoch 1/10\n",
      "49/49 [==============================] - 250s 5s/step - loss: 0.8178 - acc: 0.7566\n",
      "Epoch 2/10\n",
      "49/49 [==============================] - 248s 5s/step - loss: 0.2870 - acc: 0.8953\n",
      "Epoch 3/10\n",
      "49/49 [==============================] - 250s 5s/step - loss: 0.2603 - acc: 0.9062\n",
      "Epoch 4/10\n",
      "49/49 [==============================] - 251s 5s/step - loss: 0.1963 - acc: 0.9287\n",
      "Epoch 5/10\n",
      "49/49 [==============================] - 250s 5s/step - loss: 0.1483 - acc: 0.9480\n",
      "Epoch 6/10\n",
      "49/49 [==============================] - 254s 5s/step - loss: 0.1380 - acc: 0.9473\n",
      "Epoch 7/10\n",
      "49/49 [==============================] - 257s 5s/step - loss: 0.1047 - acc: 0.9634\n",
      "Epoch 8/10\n",
      "49/49 [==============================] - 204s 4s/step - loss: 0.0947 - acc: 0.9672\n",
      "Epoch 9/10\n",
      "49/49 [==============================] - 202s 4s/step - loss: 0.0748 - acc: 0.9775\n",
      "Epoch 10/10\n",
      "49/49 [==============================] - 189s 4s/step - loss: 0.0480 - acc: 0.9827\n"
     ]
    },
    {
     "data": {
      "text/plain": [
       "<tensorflow.python.keras.callbacks.History at 0x27543fd94c8>"
      ]
     },
     "execution_count": 12,
     "metadata": {},
     "output_type": "execute_result"
    }
   ],
   "source": [
    "base_model = ResNet50(include_top=False, weights='imagenet')\n",
    "x = base_model.output\n",
    "x = GlobalAveragePooling2D()(x)\n",
    "x = Dense(1024, activation='relu')(x)\n",
    "predictions = Dense(train_generator.num_classes, activation='softmax')(x)\n",
    "model = Model(inputs= base_model.input, outputs=predictions)\n",
    "\n",
    "for layer in base_model.layers:\n",
    "    layer.trainable = False\n",
    "    \n",
    "model.compile(optimizer='adam',loss='categorical_crossentropy', metrics=['accuracy'])\n",
    "\n",
    "model.fit(train_generator, epochs = 10)"
   ]
  },
  {
   "cell_type": "code",
   "execution_count": 13,
   "metadata": {},
   "outputs": [],
   "source": [
    "model.save(r'D:\\Learning\\Flowers classification\\saved_model\\Resnet50_classification.h5')"
   ]
  },
  {
   "cell_type": "code",
   "execution_count": 14,
   "metadata": {},
   "outputs": [
    {
     "name": "stdout",
     "output_type": "stream",
     "text": [
      "347/347 - 24s - loss: 0.7867 - acc: 0.8012\n",
      "\n",
      "Test Accuracy:  0.80115277\n"
     ]
    }
   ],
   "source": [
    "test_loss, test_acc = model.evaluate(test_generator, verbose=2)\n",
    "\n",
    "print('\\nTest Accuracy: ', test_acc)"
   ]
  },
  {
   "cell_type": "code",
   "execution_count": 17,
   "metadata": {},
   "outputs": [
    {
     "data": {
      "image/png": "[encoded data removed]",
      "text/plain": [
       "<Figure size 432x288 with 2 Axes>"
      ]
     },
     "metadata": {
      "needs_background": "light"
     },
     "output_type": "display_data"
    },
    {
     "name": "stdout",
     "output_type": "stream",
     "text": [
      "test_accuracy : 81.55619596541787\n"
     ]
    }
   ],
   "source": [
    "import pandas as pd\n",
    "import seaborn as sns\n",
    "import tensorflow as tf\n",
    "\n",
    "model = tf.keras.models.load_model(r'D:\\Learning\\Flowers classification\\saved_model\\Resnet50_classification.h5')\n",
    "filenames = test_generator.filenames\n",
    "nb_samples = len(test_generator)\n",
    "y_prob = []\n",
    "y_act = []\n",
    "test_generator.reset()\n",
    "\n",
    "for _ in range(nb_samples):\n",
    "    x_test, y_test = test_generator.next()\n",
    "    y_prob.append(model.predict(x_test))\n",
    "    y_act.append(y_test)\n",
    "    \n",
    "predicted_class = [list(train_generator.class_indices.keys())[i.argmax()] for i in y_prob]\n",
    "actual_class = [list(train_generator.class_indices.keys())[i.argmax()] for i in y_act]\n",
    "\n",
    "out_df = pd.DataFrame(np.vstack([predicted_class, actual_class]).T, columns=['predicted_class','actual_class'])\n",
    "confusion_matrix = pd.crosstab(out_df['actual_class'], out_df['predicted_class'], rownames=['Actual'], colnames=['Predicted'])\n",
    "\n",
    "sns.heatmap(confusion_matrix, cmap='Blues',annot=True, fmt='d')\n",
    "plt.show()\n",
    "print('test_accuracy : {}'.format((np.diagonal(confusion_matrix).sum()/confusion_matrix.sum().sum()*100)))"
   ]
  },
  {
   "cell_type": "code",
   "execution_count": 124,
   "metadata": {},
   "outputs": [],
   "source": [
    "model = tf.keras.models.load_model(r'D:\\Learning\\Flowers classification\\saved_model\\Resnet50_classification.h5')"
   ]
  },
  {
   "cell_type": "code",
   "execution_count": 118,
   "metadata": {},
   "outputs": [
    {
     "name": "stdout",
     "output_type": "stream",
     "text": [
      "(1, 224, 224, 3)\n"
     ]
    }
   ],
   "source": [
    "from tensorflow.keras.preprocessing import image\n",
    "img_path = (r'D:\\Learning\\Flowers classification\\test2.jpg')\n",
    "img = image.load_img(img_path, target_size=(224,224))\n",
    "x=image.img_to_array(img)\n",
    "x=np.expand_dims(x, axis=0)\n",
    "x = preprocess_input(x)\n",
    "print(x.shape)"
   ]
  },
  {
   "cell_type": "code",
   "execution_count": 119,
   "metadata": {},
   "outputs": [],
   "source": [
    "preds = model.predict(x)"
   ]
  },
  {
   "cell_type": "code",
   "execution_count": 120,
   "metadata": {},
   "outputs": [
    {
     "data": {
      "text/plain": [
       "array([[1.4759691e-07, 3.4747116e-12, 9.9999988e-01, 4.7497668e-08,\n",
       "        1.2098957e-08]], dtype=float32)"
      ]
     },
     "execution_count": 120,
     "metadata": {},
     "output_type": "execute_result"
    }
   ],
   "source": [
    "preds"
   ]
  },
  {
   "cell_type": "code",
   "execution_count": 123,
   "metadata": {},
   "outputs": [
    {
     "name": "stdout",
     "output_type": "stream",
     "text": [
      "[('n01484850', 'rose', 0.9999999), ('n01440764', 'daisy', 1.4759691e-07), ('n01491361', 'sunflower', 4.7497668e-08), ('n01494475', 'tulip', 1.2098957e-08), ('n01443537', 'dandelion', 3.4747116e-12)]\n"
     ]
    }
   ],
   "source": [
    "label = decode_prediction(preds) "
   ]
  },
  {
   "cell_type": "code",
   "execution_count": 127,
   "metadata": {},
   "outputs": [
    {
     "name": "stdout",
     "output_type": "stream",
     "text": [
      "[{'id': 'n01484850', 'class': 'rose', 'confidence': 0.9999998807907104}, {'id': 'n01440764', 'class': 'daisy', 'confidence': 1.475969071407235e-07}, {'id': 'n01491361', 'class': 'sunflower', 'confidence': 4.749766802092381e-08}, {'id': 'n01494475', 'class': 'tulip', 'confidence': 1.2098957391515341e-08}, {'id': 'n01443537', 'class': 'dandelion', 'confidence': 3.4747116208627693e-12}]\n"
     ]
    }
   ],
   "source": [
    "final_preds=[]\n",
    "for i in label[0]:\n",
    "    t={}\n",
    "    t['id']=i[0]\n",
    "    t['class']=i[1]\n",
    "    t['confidence']=float(i[2])\n",
    "    final_preds.append(t)\n",
    "    \n",
    "    \n",
    "print(final_preds)"
   ]
  },
  {
   "cell_type": "code",
   "execution_count": null,
   "metadata": {},
   "outputs": [],
   "source": []
  }
 ],
 "metadata": {
  "kernelspec": {
   "display_name": "Python 3",
   "language": "python",
   "name": "python3"
  },
  "language_info": {
   "codemirror_mode": {
    "name": "ipython",
    "version": 3
   },
   "file_extension": ".py",
   "mimetype": "text/x-python",
   "name": "python",
   "nbconvert_exporter": "python",
   "pygments_lexer": "ipython3",
   "version": "3.7.9"
  }
 },
 "nbformat": 4,
 "nbformat_minor": 4
}
